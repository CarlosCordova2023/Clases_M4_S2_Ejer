{
  "nbformat": 4,
  "nbformat_minor": 0,
  "metadata": {
    "colab": {
      "provenance": [],
      "authorship_tag": "ABX9TyOCusLq8MO0BhN32a0bZSRJ",
      "include_colab_link": true
    },
    "kernelspec": {
      "name": "python3",
      "display_name": "Python 3"
    },
    "language_info": {
      "name": "python"
    }
  },
  "cells": [
    {
      "cell_type": "markdown",
      "metadata": {
        "id": "view-in-github",
        "colab_type": "text"
      },
      "source": [
        "<a href=\"https://colab.research.google.com/github/CarlosCordova2023/Clases_M4_S2_Ejer/blob/main/Clases1.ipynb\" target=\"_parent\"><img src=\"https://colab.research.google.com/assets/colab-badge.svg\" alt=\"Open In Colab\"/></a>"
      ]
    },
    {
      "cell_type": "code",
      "execution_count": 7,
      "metadata": {
        "colab": {
          "base_uri": "https://localhost:8080/"
        },
        "id": "5lfiGopiWMMC",
        "outputId": "9763c64b-818c-4915-8a7e-581916d6d512"
      },
      "outputs": [
        {
          "output_type": "stream",
          "name": "stdout",
          "text": [
            "Información del Caballo:\n",
            "Nombre: Zeus\n",
            "Raza: Pura sangre\n",
            "Edad: 5 años\n",
            "Peso: 450 kg\n",
            "\n",
            "Información del León:\n",
            "Nombre: Boulder\n",
            "Raza: Atlas\n",
            "Edad: 10 años\n",
            "Peso: 130 kg\n"
          ]
        }
      ],
      "source": [
        "class Animal:\n",
        "    def __init__(self, nombre, raza, edad, peso):\n",
        "        self.nombre = nombre\n",
        "        self.raza = raza\n",
        "        self.edad = edad\n",
        "        self.peso = peso\n",
        "\n",
        "    def mostrar_informacion(self):\n",
        "        print(f\"Nombre: {self.nombre}\")\n",
        "        print(f\"Raza: {self.raza}\")\n",
        "        print(f\"Edad: {self.edad} años\")\n",
        "        print(f\"Peso: {self.peso} kg\")\n",
        "\n",
        "# Crear el objeto Caballo\n",
        "caballo = Animal(nombre=\"Zeus\", raza=\"Pura sangre\", edad=5, peso=450)\n",
        "\n",
        "# Crear el objeto León\n",
        "leon = Animal(nombre=\"Boulder\", raza=\"Atlas\", edad=10, peso=130)\n",
        "\n",
        "# Mostrar información de los objetos\n",
        "print(\"Información del Caballo:\")\n",
        "caballo.mostrar_informacion()\n",
        "\n",
        "print(\"\\nInformación del León:\")\n",
        "leon.mostrar_informacion()\n"
      ]
    }
  ]
}